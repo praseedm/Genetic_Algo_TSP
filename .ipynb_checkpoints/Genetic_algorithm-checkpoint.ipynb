{
 "cells": [
  {
   "cell_type": "markdown",
   "metadata": {},
   "source": [
    "## Genetic Algorithm\n",
    "* Selection\n",
    "* Crossover\n",
    "* Mutation"
   ]
  },
  {
   "cell_type": "code",
   "execution_count": 2,
   "metadata": {},
   "outputs": [],
   "source": [
    "import numpy as np\n",
    "import random"
   ]
  },
  {
   "cell_type": "code",
   "execution_count": 215,
   "metadata": {},
   "outputs": [],
   "source": [
    "def fitness_fn(route, dist_mat):\n",
    "    # calucates fitness function as total distance covered\n",
    "    \n",
    "    score = 0\n",
    "    for i in range(1, len(route)):\n",
    "        x = route[i-1]\n",
    "        y = route[i]\n",
    "        score += dist_mat[x][y]    \n",
    "    \n",
    "    return score"
   ]
  },
  {
   "cell_type": "code",
   "execution_count": null,
   "metadata": {},
   "outputs": [],
   "source": [
    "def selection(scores):\n",
    "    return 2"
   ]
  },
  {
   "cell_type": "code",
   "execution_count": null,
   "metadata": {},
   "outputs": [],
   "source": [
    "def crossover(m,n):\n",
    "    return n\n"
   ]
  },
  {
   "cell_type": "code",
   "execution_count": null,
   "metadata": {},
   "outputs": [],
   "source": [
    "def mutate(route, prob, dist_mat):\n",
    "    return route"
   ]
  },
  {
   "cell_type": "code",
   "execution_count": 52,
   "metadata": {},
   "outputs": [],
   "source": [
    "def create_random_citymap(prob_sparse,size):\n",
    "# Create random city map\n",
    "#    represented using adjacency matrix, symmetrc\n",
    "\n",
    "    dist_max = 10\n",
    "    dist_mat = np.zeros((size,size))\n",
    "    \n",
    "    for i in range(0,size):\n",
    "        for j in range (0,i):\n",
    "            if random.random() > prob_sparse:\n",
    "                dist_mat[i][j] = int(random.random()*dist_max)\n",
    "                dist_mat[j][i] = dist_mat[i][j]\n",
    "    return dist_mat\n",
    "\n",
    "\n",
    "# np.random.randint(5, size=(2, 4))\n",
    "# array([[4, 0, 2, 1],\n",
    "#       [3, 2, 2, 0]])\n"
   ]
  },
  {
   "cell_type": "code",
   "execution_count": 180,
   "metadata": {},
   "outputs": [],
   "source": [
    "def rand_soln(dist_mat):\n",
    "    #\n",
    "    start = 0\n",
    "    end = len(dist_mat) - 1\n",
    "    \n",
    "    route = np.array([start], dtype=int) # np.zeros(1, dtype=int)\n",
    "    \n",
    "    b_val = True\n",
    "    pos = 0\n",
    "    \n",
    "    while b_val:\n",
    "        values  = np.nonzero(dist_mat[route[pos]])\n",
    "        rand_val = random.randint(0,len(values[0])-1)\n",
    "        route = np.append(route, values[0][rand_val])\n",
    "        \n",
    "        if route[pos+1] == end :\n",
    "            b_val = False\n",
    "        else:\n",
    "            pos += 1\n",
    "    \n",
    "    return route"
   ]
  },
  {
   "cell_type": "code",
   "execution_count": 225,
   "metadata": {},
   "outputs": [],
   "source": [
    "def generate_population(size, dist_mat):\n",
    "    # Generate random population of given size\n",
    "    population = []\n",
    "    for i in range(0,size):\n",
    "        population.append(rand_soln(dist_mat))\n",
    "    return population    "
   ]
  },
  {
   "cell_type": "code",
   "execution_count": 231,
   "metadata": {},
   "outputs": [],
   "source": [
    "def pop_score_list(pop,dist_mat):\n",
    "    # returns population fitness score list\n",
    "    score_list = []\n",
    "    for route in pop:\n",
    "        score_list += [fitness_fn(route,dist_mat)]\n",
    "        \n",
    "    return score_list    "
   ]
  },
  {
   "cell_type": "code",
   "execution_count": 217,
   "metadata": {},
   "outputs": [
    {
     "data": {
      "text/plain": [
       "array([[0., 0., 3., 2., 4.],\n",
       "       [0., 0., 1., 1., 0.],\n",
       "       [3., 1., 0., 6., 1.],\n",
       "       [2., 1., 6., 0., 3.],\n",
       "       [4., 0., 1., 3., 0.]])"
      ]
     },
     "execution_count": 217,
     "metadata": {},
     "output_type": "execute_result"
    }
   ],
   "source": [
    "dm = create_random_citymap(0.01,5)\n",
    "dm"
   ]
  },
  {
   "cell_type": "code",
   "execution_count": 218,
   "metadata": {},
   "outputs": [
    {
     "data": {
      "text/plain": [
       "(array([2, 3]),)"
      ]
     },
     "execution_count": 218,
     "metadata": {},
     "output_type": "execute_result"
    }
   ],
   "source": [
    "np.nonzero(dm[1])"
   ]
  },
  {
   "cell_type": "code",
   "execution_count": 219,
   "metadata": {},
   "outputs": [
    {
     "data": {
      "text/plain": [
       "array([0, 3, 1, 3, 1, 2, 0, 3, 1, 3, 2, 4])"
      ]
     },
     "execution_count": 219,
     "metadata": {},
     "output_type": "execute_result"
    }
   ],
   "source": [
    "s = rand_soln(dm)\n",
    "s"
   ]
  },
  {
   "cell_type": "code",
   "execution_count": 220,
   "metadata": {},
   "outputs": [
    {
     "data": {
      "text/plain": [
       "20.0"
      ]
     },
     "execution_count": 220,
     "metadata": {},
     "output_type": "execute_result"
    }
   ],
   "source": [
    "fitness_fn(s,dm)"
   ]
  },
  {
   "cell_type": "code",
   "execution_count": 228,
   "metadata": {},
   "outputs": [
    {
     "data": {
      "text/plain": [
       "[array([0, 2, 0, 4]), array([0, 2, 0, 2, 0, 4]), array([0, 4])]"
      ]
     },
     "execution_count": 228,
     "metadata": {},
     "output_type": "execute_result"
    }
   ],
   "source": [
    "pop = generate_population(3,dm)\n",
    "pop"
   ]
  },
  {
   "cell_type": "code",
   "execution_count": 232,
   "metadata": {},
   "outputs": [
    {
     "data": {
      "text/plain": [
       "[10.0, 16.0, 4.0]"
      ]
     },
     "execution_count": 232,
     "metadata": {},
     "output_type": "execute_result"
    }
   ],
   "source": [
    "pop_score_list(pop,dm)"
   ]
  },
  {
   "cell_type": "code",
   "execution_count": null,
   "metadata": {},
   "outputs": [],
   "source": []
  }
 ],
 "metadata": {
  "kernelspec": {
   "display_name": "Python 3",
   "language": "python",
   "name": "python3"
  },
  "language_info": {
   "codemirror_mode": {
    "name": "ipython",
    "version": 3
   },
   "file_extension": ".py",
   "mimetype": "text/x-python",
   "name": "python",
   "nbconvert_exporter": "python",
   "pygments_lexer": "ipython3",
   "version": "3.6.8"
  }
 },
 "nbformat": 4,
 "nbformat_minor": 2
}
