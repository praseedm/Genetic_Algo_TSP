{
 "cells": [
  {
   "cell_type": "markdown",
   "metadata": {},
   "source": [
    "## Genetic Algorithm\n",
    "* Selection\n",
    "* Crossover\n",
    "* Mutation"
   ]
  },
  {
   "cell_type": "code",
   "execution_count": 2,
   "metadata": {},
   "outputs": [],
   "source": [
    "import numpy as np\n",
    "import random"
   ]
  },
  {
   "cell_type": "code",
   "execution_count": 3,
   "metadata": {},
   "outputs": [],
   "source": [
    "def fitness_fn(route, dist_mat):\n",
    "    # calucates fitness function as total distance covered\n",
    "    \n",
    "    score = 0\n",
    "    for i in range(1, len(route)):\n",
    "        x = route[i-1]\n",
    "        y = route[i]\n",
    "        score += dist_mat[x][y]    \n",
    "    score += dist_mat[route[-1]][route[0]]  # back to start\n",
    "    return score"
   ]
  },
  {
   "cell_type": "code",
   "execution_count": 4,
   "metadata": {},
   "outputs": [],
   "source": [
    "def selection(pop_scores):\n",
    "    sort_args = pop_scores.argsort()\n",
    "    \n",
    "    return sort_args\n"
   ]
  },
  {
   "cell_type": "code",
   "execution_count": 54,
   "metadata": {},
   "outputs": [],
   "source": [
    "def crossover(parent_1,parent_2):\n",
    "    # ordered crossover\n",
    "    r1 = int(random.random() * len(parent_1))\n",
    "    r2 = int(random.random() * len(parent_1))\n",
    "    start = min(r1,r2)\n",
    "    end = max(r1,r2)\n",
    "    \n",
    "    child = list(parent_1[start:end])\n",
    "    temp = [item for item in parent_2 if item not in child]\n",
    "    \n",
    "    return np.array(child+temp)\n"
   ]
  },
  {
   "cell_type": "code",
   "execution_count": 60,
   "metadata": {},
   "outputs": [],
   "source": [
    "def mutate(route):\n",
    "    # simple mutation without mutation rate , swap any two values\n",
    "    r1 = int(random.random() * len(route))\n",
    "    r2 = int(random.random() * len(route))\n",
    "    route[r1],route[r2] = route[r2],route[r1]\n",
    "    return route"
   ]
  },
  {
   "cell_type": "code",
   "execution_count": 66,
   "metadata": {},
   "outputs": [],
   "source": [
    "def create_random_citymap(size):\n",
    "# Create random city map\n",
    "#    represented using adjacency matrix, symmetrc\n",
    "# fully connected\n",
    "\n",
    "    dist_max = 10\n",
    "    dist_mat = np.zeros((size,size))\n",
    "    \n",
    "    for i in range(0,size):\n",
    "        for j in range (0,i):\n",
    "            #if random.random() > prob_sparse:\n",
    "                dist_mat[i][j] = int(random.random()*dist_max)+1\n",
    "                dist_mat[j][i] = dist_mat[i][j]\n",
    "    return dist_mat\n",
    "\n",
    "\n",
    "# np.random.randint(5, size=(2, 4))\n",
    "# array([[4, 0, 2, 1],\n",
    "#       [3, 2, 2, 0]])\n"
   ]
  },
  {
   "cell_type": "code",
   "execution_count": 9,
   "metadata": {},
   "outputs": [],
   "source": [
    "def rand_soln_tsp(size):  # contains all nodes\n",
    "    r_soln = np.arange(size)\n",
    "    np.random.shuffle(r_soln)\n",
    "    return r_soln"
   ]
  },
  {
   "cell_type": "code",
   "execution_count": 73,
   "metadata": {},
   "outputs": [],
   "source": [
    "def generate_population(size, city_count):\n",
    "    # Generate random population of given size\n",
    "    population = []\n",
    "    for i in range(0,size):\n",
    "        population.append(rand_soln_tsp(city_count))\n",
    "    return population    "
   ]
  },
  {
   "cell_type": "code",
   "execution_count": 124,
   "metadata": {},
   "outputs": [],
   "source": [
    "def pick_mate(pop_size):\n",
    "    return int(random.random() * (pop_size-1))"
   ]
  },
  {
   "cell_type": "code",
   "execution_count": 11,
   "metadata": {},
   "outputs": [],
   "source": [
    "def pop_score_list(pop,dist_mat):\n",
    "    # returns population fitness score list\n",
    "    score_list = []\n",
    "    for route in pop:\n",
    "        score_list += [fitness_fn(route,dist_mat)]\n",
    "        \n",
    "    return np.array(score_list)    "
   ]
  },
  {
   "cell_type": "code",
   "execution_count": 134,
   "metadata": {},
   "outputs": [],
   "source": [
    "## utils\n",
    "def print_verb(iter_c,score_l,pop):\n",
    "    print(\"..........\")\n",
    "    print(\"Iteration :\",iter_c)\n",
    "    print(score_l)\n",
    "    print(pop)\n",
    "    print(\"BEST : \",min(score_l))"
   ]
  },
  {
   "cell_type": "code",
   "execution_count": 158,
   "metadata": {},
   "outputs": [],
   "source": [
    "def run_genetic_algo(iterations = 5):\n",
    "    city_count = 6\n",
    "    population_size = 3\n",
    "    eliteSize = 1 # Elitism\n",
    "    offspring_count = 2\n",
    "    \n",
    "    distance_mat = create_random_citymap(city_count)\n",
    "    print(\".....DIST MAT.....\")\n",
    "    print(distance_mat)\n",
    "    print(\"..........\")\n",
    "    initial_pop = generate_population(population_size,city_count)\n",
    "    \n",
    "    best_shortest_d = 999999\n",
    "    current_pop = initial_pop\n",
    "    \n",
    "    for i in range(0,iterations):\n",
    "       \n",
    "        \n",
    "        score_list = pop_score_list(current_pop,distance_mat)\n",
    "         \n",
    "        print_verb(i,score_list,current_pop)\n",
    "        \n",
    "        best_score = min(score_list)\n",
    "        best_soln = current_pop[np.argmin(score_list)]\n",
    "        \n",
    "        new_pop =[]\n",
    "        #elitism\n",
    "        new_pop = [current_pop[pos] for pos in np.argsort(score_list)[:eliteSize]]\n",
    "        \n",
    "        # add offspring to population\n",
    "        for i in range(0,offspring_count):\n",
    "            off_sp = crossover(current_pop[pick_mate(population_size)],current_pop[pick_mate(population_size)])\n",
    "            off_sp_m = mutate(off_sp)\n",
    "            new_pop.append(off_sp_m)\n",
    "            \n",
    "       # add random solns\n",
    "        while len(new_pop) < population_size:\n",
    "            new_pop.append(rand_soln_tsp(city_count))\n",
    "        \n",
    "        # replace old with new copy\n",
    "        current_pop = new_pop[:]\n",
    "    \n",
    "    print('#.#.........FINAL.........#.#')\n",
    "    print(\"Best score:\",best_score)\n",
    "    print(\"Soln :\",best_soln)\n",
    "    print('#.#.........##.........#.#')\n",
    "    "
   ]
  },
  {
   "cell_type": "code",
   "execution_count": 157,
   "metadata": {},
   "outputs": [
    {
     "name": "stdout",
     "output_type": "stream",
     "text": [
      ".....DIST MAT.....\n",
      "[[ 0.  3. 10.  9.  6.  4.]\n",
      " [ 3.  0.  2.  7.  4.  8.]\n",
      " [10.  2.  0. 10.  1.  2.]\n",
      " [ 9.  7. 10.  0.  5.  9.]\n",
      " [ 6.  4.  1.  5.  0.  5.]\n",
      " [ 4.  8.  2.  9.  5.  0.]]\n",
      "..........\n",
      "..........\n",
      "Iteration : 0\n",
      "[35. 35. 40.]\n",
      "[array([4, 2, 0, 5, 1, 3]), array([5, 1, 2, 4, 0, 3]), array([1, 3, 2, 0, 5, 4])]\n",
      "BEST :  35.0\n",
      "..........\n",
      "Iteration : 1\n",
      "[35. 40. 34.]\n",
      "[array([4, 2, 0, 5, 1, 3]), array([5, 1, 2, 0, 4, 3]), array([4, 0, 1, 5, 2, 3])]\n",
      "BEST :  34.0\n",
      "..........\n",
      "Iteration : 2\n",
      "[34. 38. 47.]\n",
      "[array([4, 0, 1, 5, 2, 3]), array([5, 2, 0, 4, 1, 3]), array([5, 1, 4, 0, 2, 3])]\n",
      "BEST :  34.0\n",
      "..........\n",
      "Iteration : 3\n",
      "[34. 33. 38.]\n",
      "[array([4, 0, 1, 5, 2, 3]), array([1, 5, 2, 4, 0, 3]), array([5, 2, 0, 4, 1, 3])]\n",
      "BEST :  33.0\n",
      "..........\n",
      "Iteration : 4\n",
      "[33. 33. 36.]\n",
      "[array([1, 5, 2, 4, 0, 3]), array([4, 1, 0, 2, 5, 3]), array([0, 1, 5, 4, 2, 3])]\n",
      "BEST :  33.0\n",
      "#.#.........FINAL.........#.#\n",
      "Best score: 33.0\n",
      "Soln : [1 5 2 4 0 3]\n",
      "#.#.........##.........#.#\n"
     ]
    }
   ],
   "source": [
    "run_genetic_algo()"
   ]
  },
  {
   "cell_type": "markdown",
   "metadata": {},
   "source": [
    "# ---------------------------------------------------------"
   ]
  },
  {
   "cell_type": "code",
   "execution_count": 88,
   "metadata": {},
   "outputs": [
    {
     "data": {
      "text/plain": [
       "array([[ 0.,  1.,  2.,  6.,  7.],\n",
       "       [ 1.,  0.,  8.,  7., 10.],\n",
       "       [ 2.,  8.,  0.,  5.,  8.],\n",
       "       [ 6.,  7.,  5.,  0.,  6.],\n",
       "       [ 7., 10.,  8.,  6.,  0.]])"
      ]
     },
     "execution_count": 88,
     "metadata": {},
     "output_type": "execute_result"
    }
   ],
   "source": [
    "dm = create_random_citymap(5)\n",
    "dm"
   ]
  },
  {
   "cell_type": "code",
   "execution_count": 142,
   "metadata": {},
   "outputs": [
    {
     "data": {
      "text/plain": [
       "[array([1, 0, 4, 2, 3]), array([1, 3, 0, 4, 2]), array([2, 0, 4, 1, 3])]"
      ]
     },
     "execution_count": 142,
     "metadata": {},
     "output_type": "execute_result"
    }
   ],
   "source": [
    "pop = generate_population(3,5)\n",
    "pop "
   ]
  },
  {
   "cell_type": "code",
   "execution_count": 143,
   "metadata": {},
   "outputs": [
    {
     "data": {
      "text/plain": [
       "array([28., 36., 31.])"
      ]
     },
     "execution_count": 143,
     "metadata": {},
     "output_type": "execute_result"
    }
   ],
   "source": [
    "sc = pop_score_list(pop,dm)\n",
    "sc"
   ]
  },
  {
   "cell_type": "code",
   "execution_count": 150,
   "metadata": {},
   "outputs": [
    {
     "data": {
      "text/plain": [
       "[array([1, 0, 4, 2, 3]), array([2, 0, 4, 1, 3])]"
      ]
     },
     "execution_count": 150,
     "metadata": {},
     "output_type": "execute_result"
    }
   ],
   "source": [
    "[ pop[k] for k in np.argsort(sc)[:2]]"
   ]
  },
  {
   "cell_type": "code",
   "execution_count": 148,
   "metadata": {},
   "outputs": [
    {
     "ename": "TypeError",
     "evalue": "list indices must be integers or slices, not list",
     "output_type": "error",
     "traceback": [
      "\u001b[0;31m---------------------------------------------------------------------------\u001b[0m",
      "\u001b[0;31mTypeError\u001b[0m                                 Traceback (most recent call last)",
      "\u001b[0;32m<ipython-input-148-d0b18ed9fc1c>\u001b[0m in \u001b[0;36m<module>\u001b[0;34m\u001b[0m\n\u001b[0;32m----> 1\u001b[0;31m \u001b[0mpop\u001b[0m\u001b[0;34m[\u001b[0m\u001b[0;34m[\u001b[0m\u001b[0;36m1\u001b[0m\u001b[0;34m,\u001b[0m\u001b[0;36m2\u001b[0m\u001b[0;34m]\u001b[0m\u001b[0;34m]\u001b[0m\u001b[0;34m\u001b[0m\u001b[0;34m\u001b[0m\u001b[0m\n\u001b[0m",
      "\u001b[0;31mTypeError\u001b[0m: list indices must be integers or slices, not list"
     ]
    }
   ],
   "source": [
    "pop[[1,2]]"
   ]
  },
  {
   "cell_type": "code",
   "execution_count": 133,
   "metadata": {},
   "outputs": [
    {
     "data": {
      "text/plain": [
       "46"
      ]
     },
     "execution_count": 133,
     "metadata": {},
     "output_type": "execute_result"
    }
   ],
   "source": [
    "pick_mate(50)"
   ]
  },
  {
   "cell_type": "code",
   "execution_count": 91,
   "metadata": {},
   "outputs": [
    {
     "data": {
      "text/plain": [
       "array([3, 1, 2, 0, 4])"
      ]
     },
     "execution_count": 91,
     "metadata": {},
     "output_type": "execute_result"
    }
   ],
   "source": [
    "best = np.argmin(sc)\n",
    "pop[best]"
   ]
  },
  {
   "cell_type": "code",
   "execution_count": 64,
   "metadata": {},
   "outputs": [
    {
     "data": {
      "text/plain": [
       "(array([3, 4, 2, 0, 1]), array([4, 3, 1, 0, 2]))"
      ]
     },
     "execution_count": 64,
     "metadata": {},
     "output_type": "execute_result"
    }
   ],
   "source": [
    "s = rand_soln_tsp(5)\n",
    "p = rand_soln_tsp(5)\n",
    "s,p"
   ]
  },
  {
   "cell_type": "code",
   "execution_count": 59,
   "metadata": {
    "scrolled": true
   },
   "outputs": [
    {
     "data": {
      "text/plain": [
       "array([0, 2, 3, 4, 1])"
      ]
     },
     "execution_count": 59,
     "metadata": {},
     "output_type": "execute_result"
    }
   ],
   "source": [
    "crossover(s,p)"
   ]
  },
  {
   "cell_type": "code",
   "execution_count": 65,
   "metadata": {},
   "outputs": [
    {
     "data": {
      "text/plain": [
       "array([0, 4, 2, 3, 1])"
      ]
     },
     "execution_count": 65,
     "metadata": {},
     "output_type": "execute_result"
    }
   ],
   "source": [
    "mutate(s)"
   ]
  },
  {
   "cell_type": "code",
   "execution_count": 16,
   "metadata": {},
   "outputs": [
    {
     "data": {
      "text/plain": [
       "array([0, 1, 0, 3, 2, 4])"
      ]
     },
     "execution_count": 16,
     "metadata": {},
     "output_type": "execute_result"
    }
   ],
   "source": [
    "s = rand_soln(dm)\n",
    "s"
   ]
  },
  {
   "cell_type": "code",
   "execution_count": 220,
   "metadata": {},
   "outputs": [
    {
     "data": {
      "text/plain": [
       "20.0"
      ]
     },
     "execution_count": 220,
     "metadata": {},
     "output_type": "execute_result"
    }
   ],
   "source": [
    "fitness_fn(s,dm)"
   ]
  },
  {
   "cell_type": "code",
   "execution_count": 228,
   "metadata": {},
   "outputs": [
    {
     "data": {
      "text/plain": [
       "[array([0, 2, 0, 4]), array([0, 2, 0, 2, 0, 4]), array([0, 4])]"
      ]
     },
     "execution_count": 228,
     "metadata": {},
     "output_type": "execute_result"
    }
   ],
   "source": [
    "pop = generate_population(3,dm)\n",
    "pop"
   ]
  },
  {
   "cell_type": "code",
   "execution_count": 243,
   "metadata": {},
   "outputs": [
    {
     "data": {
      "text/plain": [
       "array([10., 16.,  4.])"
      ]
     },
     "execution_count": 243,
     "metadata": {},
     "output_type": "execute_result"
    }
   ],
   "source": [
    "pop_score_list(pop,dm)"
   ]
  },
  {
   "cell_type": "code",
   "execution_count": 259,
   "metadata": {},
   "outputs": [],
   "source": [
    "s = np.array([1,4,3,0])"
   ]
  },
  {
   "cell_type": "code",
   "execution_count": 260,
   "metadata": {},
   "outputs": [
    {
     "data": {
      "text/plain": [
       "array([3, 0, 2, 1])"
      ]
     },
     "execution_count": 260,
     "metadata": {},
     "output_type": "execute_result"
    }
   ],
   "source": [
    "t = s.argsort()\n",
    "t"
   ]
  },
  {
   "cell_type": "code",
   "execution_count": 262,
   "metadata": {},
   "outputs": [
    {
     "data": {
      "text/plain": [
       "array([93999935849584,              0,              0,    -4294967295])"
      ]
     },
     "execution_count": 262,
     "metadata": {},
     "output_type": "execute_result"
    }
   ],
   "source": [
    "r = np.empty_like(t)\n",
    "r"
   ]
  },
  {
   "cell_type": "code",
   "execution_count": 263,
   "metadata": {},
   "outputs": [
    {
     "data": {
      "text/plain": [
       "array([1, 3, 2, 0])"
      ]
     },
     "execution_count": 263,
     "metadata": {},
     "output_type": "execute_result"
    }
   ],
   "source": [
    "r[t] = np.arange(len(s))\n",
    "r"
   ]
  },
  {
   "cell_type": "code",
   "execution_count": 264,
   "metadata": {},
   "outputs": [
    {
     "data": {
      "text/plain": [
       "[3, 1, 2, 4]"
      ]
     },
     "execution_count": 264,
     "metadata": {},
     "output_type": "execute_result"
    }
   ],
   "source": [
    "[len(r)-x for x in r]"
   ]
  },
  {
   "cell_type": "code",
   "execution_count": 1,
   "metadata": {},
   "outputs": [],
   "source": [
    "b = [1,2,3,4]"
   ]
  },
  {
   "cell_type": "code",
   "execution_count": 2,
   "metadata": {},
   "outputs": [],
   "source": [
    "c = b\n",
    "c[1] = 5"
   ]
  },
  {
   "cell_type": "code",
   "execution_count": 3,
   "metadata": {},
   "outputs": [
    {
     "data": {
      "text/plain": [
       "[1, 5, 3, 4]"
      ]
     },
     "execution_count": 3,
     "metadata": {},
     "output_type": "execute_result"
    }
   ],
   "source": [
    "b"
   ]
  },
  {
   "cell_type": "code",
   "execution_count": 5,
   "metadata": {},
   "outputs": [],
   "source": [
    "d = c[:]\n",
    "c[0] = 4"
   ]
  },
  {
   "cell_type": "code",
   "execution_count": 6,
   "metadata": {},
   "outputs": [
    {
     "data": {
      "text/plain": [
       "[1, 5, 3, 4]"
      ]
     },
     "execution_count": 6,
     "metadata": {},
     "output_type": "execute_result"
    }
   ],
   "source": [
    "d"
   ]
  },
  {
   "cell_type": "code",
   "execution_count": 7,
   "metadata": {},
   "outputs": [
    {
     "data": {
      "text/plain": [
       "[4, 5, 3, 4]"
      ]
     },
     "execution_count": 7,
     "metadata": {},
     "output_type": "execute_result"
    }
   ],
   "source": [
    "c"
   ]
  },
  {
   "cell_type": "code",
   "execution_count": null,
   "metadata": {},
   "outputs": [],
   "source": []
  }
 ],
 "metadata": {
  "kernelspec": {
   "display_name": "Python 3",
   "language": "python",
   "name": "python3"
  },
  "language_info": {
   "codemirror_mode": {
    "name": "ipython",
    "version": 3
   },
   "file_extension": ".py",
   "mimetype": "text/x-python",
   "name": "python",
   "nbconvert_exporter": "python",
   "pygments_lexer": "ipython3",
   "version": "3.6.8"
  }
 },
 "nbformat": 4,
 "nbformat_minor": 2
}
