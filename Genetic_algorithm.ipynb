{
 "cells": [
  {
   "cell_type": "markdown",
   "metadata": {},
   "source": [
    "## Genetic Algorithm\n",
    "* Selection\n",
    "* Crossover\n",
    "* Mutation"
   ]
  },
  {
   "cell_type": "code",
   "execution_count": 2,
   "metadata": {},
   "outputs": [],
   "source": [
    "import numpy as np\n",
    "import random"
   ]
  },
  {
   "cell_type": "code",
   "execution_count": null,
   "metadata": {},
   "outputs": [],
   "source": [
    "def fitness_fn(route, dist_mat):\n",
    "    return 2"
   ]
  },
  {
   "cell_type": "code",
   "execution_count": null,
   "metadata": {},
   "outputs": [],
   "source": [
    "def selection(scores):\n",
    "    return 2"
   ]
  },
  {
   "cell_type": "code",
   "execution_count": null,
   "metadata": {},
   "outputs": [],
   "source": [
    "def crossover(m,n):\n",
    "    return n\n"
   ]
  },
  {
   "cell_type": "code",
   "execution_count": null,
   "metadata": {},
   "outputs": [],
   "source": [
    "def mutate(route, prob, dist_mat):\n",
    "    return route"
   ]
  },
  {
   "cell_type": "code",
   "execution_count": 52,
   "metadata": {},
   "outputs": [],
   "source": [
    "def create_random_citymap(prob_sparse,size):\n",
    "# Create random city map\n",
    "#    represented using adjacency matrix, symmetrc\n",
    "\n",
    "    dist_max = 10\n",
    "    dist_mat = np.zeros((size,size))\n",
    "    \n",
    "    for i in range(0,size):\n",
    "        for j in range (0,i):\n",
    "            if random.random() > prob_sparse:\n",
    "                dist_mat[i][j] = int(random.random()*dist_max)\n",
    "                dist_mat[j][i] = dist_mat[i][j]\n",
    "    return dist_mat\n",
    "\n",
    "\n",
    "# np.random.randint(5, size=(2, 4))\n",
    "# array([[4, 0, 2, 1],\n",
    "#       [3, 2, 2, 0]])\n"
   ]
  },
  {
   "cell_type": "code",
   "execution_count": 62,
   "metadata": {},
   "outputs": [
    {
     "data": {
      "text/plain": [
       "array([[0., 2., 2., 5., 1.],\n",
       "       [2., 0., 0., 8., 7.],\n",
       "       [2., 0., 0., 5., 7.],\n",
       "       [5., 8., 5., 0., 4.],\n",
       "       [1., 7., 7., 4., 0.]])"
      ]
     },
     "execution_count": 62,
     "metadata": {},
     "output_type": "execute_result"
    }
   ],
   "source": [
    "create_random_citymap(0.01,5)"
   ]
  },
  {
   "cell_type": "code",
   "execution_count": null,
   "metadata": {},
   "outputs": [],
   "source": []
  },
  {
   "cell_type": "code",
   "execution_count": null,
   "metadata": {},
   "outputs": [],
   "source": []
  }
 ],
 "metadata": {
  "kernelspec": {
   "display_name": "Python 3",
   "language": "python",
   "name": "python3"
  },
  "language_info": {
   "codemirror_mode": {
    "name": "ipython",
    "version": 3
   },
   "file_extension": ".py",
   "mimetype": "text/x-python",
   "name": "python",
   "nbconvert_exporter": "python",
   "pygments_lexer": "ipython3",
   "version": "3.6.8"
  }
 },
 "nbformat": 4,
 "nbformat_minor": 2
}
